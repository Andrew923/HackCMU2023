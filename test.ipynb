{
 "cells": [
  {
   "cell_type": "code",
   "execution_count": null,
   "metadata": {},
   "outputs": [],
   "source": [
    "# Unzipping script\n",
    "# import os\n",
    "# import gzip\n",
    "# import shutil\n",
    "\n",
    "# current_directory = os.getcwd()\n",
    "\n",
    "# for file_name in os.listdir(current_directory):\n",
    "#     if file_name.endswith('.gz'):\n",
    "#         gz_file_path = os.path.join(current_directory, file_name)\n",
    "#         unzipped_file_path = os.path.splitext(gz_file_path)[0]\n",
    "\n",
    "#         with gzip.open(gz_file_path, 'rb') as gz_file:\n",
    "#             with open(unzipped_file_path, 'wb') as unzipped_file:\n",
    "#                 shutil.copyfileobj(gz_file, unzipped_file)\n",
    "\n",
    "#         os.remove(gz_file_path)\n",
    "\n",
    "#         print(f\"Unzipped: {unzipped_file_path}\")"
   ]
  },
  {
   "cell_type": "code",
   "execution_count": 17,
   "metadata": {},
   "outputs": [],
   "source": [
    "# Accumulate df\n",
    "import os\n",
    "import netCDF4 as nc\n",
    "import pandas as pd\n",
    "import numpy as np\n",
    "\n",
    "current_directory = os.getcwd()\n",
    "\n",
    "data = {}\n",
    "\n",
    "for file_name in os.listdir(os.path.join(current_directory, 'data')):\n",
    "    if file_name.endswith('.nc'):\n",
    "        nc_file = nc.Dataset(os.path.join(current_directory, 'data', file_name))\n",
    "\n",
    "        for var_name, var in nc_file.variables.items():\n",
    "            if var_name in data:\n",
    "                data[var_name] = np.concatenate((data[var_name], var[:]))\n",
    "            else:\n",
    "                data[var_name] = var[:]\n",
    "        nc_file.close()\n",
    "\n",
    "df = pd.DataFrame(data)"
   ]
  },
  {
   "cell_type": "code",
   "execution_count": null,
   "metadata": {},
   "outputs": [],
   "source": [
    "df.columns\n",
    "important_columns_presumably = ['bt', 'bx_gse', 'by_gse', 'bz_gse', 'theta_gse', 'phi_gse']\n",
    "df[df[\"bt\"]!=-99999][:1000].plot(x=\"time\", y=important_columns_presumably[0])\n",
    "plt.show()"
   ]
  },
  {
   "cell_type": "code",
   "execution_count": null,
   "metadata": {},
   "outputs": [],
   "source": [
    "import matplotlib.pyplot as plt\n",
    "\n",
    "fig, axes = plt.subplots(nrows=2, ncols=3)\n",
    "fig.set_figheight(8)\n",
    "fig.set_figwidth(15)\n",
    "\n",
    "for i in range(2):\n",
    "    for j in range(3):\n",
    "        df[df[\"bt\"]!=-99999][:].plot(x=\"time\", y=important_columns_presumably[i*3+j], ax=axes[i, j])\n",
    "plt.show()"
   ]
  },
  {
   "cell_type": "code",
   "execution_count": 18,
   "metadata": {},
   "outputs": [],
   "source": [
    "#preprocessing\n",
    "import datetime\n",
    "df['time'] = df['time'].apply(lambda x: datetime.datetime.fromtimestamp(x/1000))\n",
    "#flags with all same bool\n",
    "df.drop(['backfill_flag', 'future_packet_time_flag', 'maneuver_flag', 'calibration_mode_flag', 'possible_saturation_flag'], axis=1, inplace=True)\n",
    "df.drop(['measurement_range', 'measurement_mode', 'overall_quality'], axis=1, inplace=True)\n",
    "#drop gsm coordinate system\n",
    "df.drop(['bx_gsm', 'by_gsm', 'bz_gsm', 'theta_gsm', 'phi_gsm'], axis=1, inplace=True)\n",
    "#check flags to set mask and then drop flags\n",
    "df['mask'] = 1\n",
    "df.loc[(df['old_packet_time_flag'] == 1) | (df['fill_flag'] == 1) | (df['low_sample_count_flag'] == 1), 'mask'] = 0\n",
    "df.drop(['old_packet_time_flag', 'fill_flag', 'low_sample_count_flag'], axis=1, inplace=True)\n",
    "#drop all rows with mask 0\n",
    "df.loc[df['mask'] == 0, ['sample_count', 'bt', 'bx_gse', 'by_gse', 'bz_gse', 'theta_gse', 'phi_gse']] = 0\n",
    "\n",
    "#fourier feature encoding for date information\n",
    "df['year'] = df['time'].dt.year\n",
    "df['month'] = df['time'].dt.month\n",
    "df['day'] = df['time'].dt.day\n",
    "df['hour'] = df['time'].dt.hour\n",
    "df['minute'] = df['time'].dt.minute\n",
    "df.drop(['time'], axis=1, inplace=True)\n",
    "\n",
    "periods = {\n",
    "    'year': 365.25,\n",
    "    'month': 12,\n",
    "    'day': 30.44,\n",
    "    'hour': 24,\n",
    "    'minute': 60\n",
    "}\n",
    "\n",
    "for component, period in periods.items():\n",
    "    df[f'{component}_cos'] = df[component].apply(lambda x: np.cos(x * 2 * np.pi / period))\n",
    "    df[f'{component}_sin'] = df[component].apply(lambda x: np.sin(x * 2 * np.pi / period))"
   ]
  },
  {
   "cell_type": "code",
   "execution_count": 1,
   "metadata": {},
   "outputs": [],
   "source": [
    "import torch\n",
    "from torch.utils.data import Dataset, DataLoader\n",
    "\n",
    "class TimeSeriesDataset(Dataset):\n",
    "    def __init__(self, data_frame, window_size):\n",
    "        self.data = torch.tensor(data_frame[['bt', 'bx_gse', 'by_gse', 'bz_gse', 'theta_gse', 'phi_gse']].values)\n",
    "        self.masks = torch.tensor(data_frame['mask'].values, dtype=torch.bool)\n",
    "        self.time = torch.tensor(data_frame[['year_cos', 'year_sin', 'month_cos', 'month_sin', 'day_cos', 'day_sin', 'hour_cos', 'hour_sin', 'minute_cos', 'minute_sin']].values)\n",
    "        self.window_size = window_size\n",
    "\n",
    "    def __len__(self):\n",
    "        return self.data.shape[0]-self.window_size\n",
    "\n",
    "    def __getitem__(self, i):\n",
    "        ind = slice(i, i+self.window_size)\n",
    "        return self.data[ind], self.masks[ind], self.time[ind]\n",
    "\n",
    "def make_loader(dataset, batch_size):\n",
    "    loader = DataLoader(dataset=dataset, \n",
    "                        batch_size=batch_size)\n",
    "    return loader"
   ]
  },
  {
   "cell_type": "code",
   "execution_count": 3,
   "metadata": {},
   "outputs": [],
   "source": [
    "import pandas as pd\n",
    "\n",
    "df = pd.read_csv('data.csv')\n",
    "train = df[df['month'] < 8]\n",
    "test = df[df['month'] >= 8]\n",
    "trainset = TimeSeriesDataset(train, 500)\n",
    "trainloader = make_loader(trainset, 1)"
   ]
  },
  {
   "cell_type": "code",
   "execution_count": null,
   "metadata": {},
   "outputs": [],
   "source": [
    "# Testing\n",
    "\n",
    "import torch\n",
    "from transformers import TimeSeriesTransformerConfig, TimeSeriesTransformerForPrediction\n",
    "\n",
    "n = len(test)\n",
    "split = 0.8\n",
    "data = torch.tensor(test[['bt', 'bx_gse', 'by_gse', 'bz_gse', 'theta_gse', 'phi_gse']].values)\n",
    "mask = torch.tensor(test['mask'].values, dtype=torch.bool)\n",
    "time = torch.tensor(test[['year_cos', 'year_sin', 'month_cos', 'month_sin', 'day_cos', 'day_sin', 'hour_cos', 'hour_sin', 'minute_cos', 'minute_sin']].values)\n",
    "data = data.unsqueeze(0)[:, :7200]\n",
    "mask = mask.unsqueeze(0)[:, :7200]\n",
    "time = time.unsqueeze(0)[:, :7200]\n",
    "\n",
    "config = TimeSeriesTransformerConfig(\n",
    "    # prediction_length=n - int(n * split),\n",
    "    # prediction_length=100,\n",
    "    prediction_length=7200 - int(7200 * 0.8),\n",
    "    # context_length=int(n * split) - 7,\n",
    "    context_length=int(7200 * 0.8) - 60,\n",
    "    input_size=6,\n",
    "    num_time_features=10,\n",
    "    lags_sequence=list(range(1, 61)),\n",
    "    # d_model=32,\n",
    ")\n",
    "\n",
    "model = TimeSeriesTransformerForPrediction(config)\n",
    "\n",
    "model.load_state_dict(torch.load(\"psc_model.pth\"))\n",
    "\n",
    "outputs = model.generate(\n",
    "    past_values=data[:int(n * split), :],\n",
    "    past_time_features=time[:int(n * split)],\n",
    "    past_observed_mask=mask[:int(n * split)],\n",
    "    future_time_features=time[int(n * split):],\n",
    ")"
   ]
  },
  {
   "cell_type": "code",
   "execution_count": 31,
   "metadata": {},
   "outputs": [
    {
     "data": {
      "text/plain": [
       "(torch.Size([1, 64860, 6]),\n",
       " torch.Size([1, 64860, 10]),\n",
       " torch.Size([1, 64860]),\n",
       " 3,\n",
       " 3,\n",
       " 2)"
      ]
     },
     "execution_count": 31,
     "metadata": {},
     "output_type": "execute_result"
    }
   ],
   "source": [
    "data.shape, time.shape, mask.shape, data.dim(), time.dim(), mask.dim()"
   ]
  },
  {
   "cell_type": "code",
   "execution_count": null,
   "metadata": {},
   "outputs": [],
   "source": [
    "#Plotting\n",
    "\n",
    "pred = torch.cat((data[:, : int(n * split)], outputs.prediction), dim=1)\n",
    "vals = ['bt', 'bx_gse', 'by_gse', 'bz_gse', 'theta_gse', 'phi_gse']\n",
    "vals = [s.split('_')[0] for s in vals]\n",
    "\n",
    "for i in range(data.shape[2]):\n",
    "    plt.plot(data[0, :, i], label=f'True {vals[i]}')\n",
    "    plt.plot(pred[0, :, i], label=f'Predicted {vals[i]}')\n",
    "plt.legend()\n",
    "plt.xlabel('Time')\n",
    "plt.ylabel('Value')\n",
    "plt.title('Testing Performance')\n",
    "plt.show()"
   ]
  },
  {
   "cell_type": "code",
   "execution_count": 4,
   "metadata": {},
   "outputs": [
    {
     "name": "stderr",
     "output_type": "stream",
     "text": [
      "100%|██████████| 304720/304720 [2:18:29<00:00, 36.67it/s]  \n"
     ]
    }
   ],
   "source": [
    "#Training\n",
    "\n",
    "import torch\n",
    "from transformers import TimeSeriesTransformerConfig, TimeSeriesTransformerForPrediction\n",
    "from tqdm import tqdm\n",
    "\n",
    "config = TimeSeriesTransformerConfig(\n",
    "    prediction_length=100,\n",
    "    context_length=393,\n",
    "    input_size=6,\n",
    "    num_time_features=10,\n",
    "    # num_static_categorical_features=1,\n",
    "    # num_static_real_features=1,\n",
    "    # lags_sequence=[0], #wtf is this it might be important?\n",
    "    \n",
    "    # transformer params: ima just use the default\n",
    "    d_model=32,\n",
    ")\n",
    "\n",
    "model = TimeSeriesTransformerForPrediction(config)\n",
    "\n",
    "model.train()\n",
    "\n",
    "losses = list()\n",
    "for data, mask, time, id in tqdm(trainloader):\n",
    "    past_data, future_data = data[:, :400].float(), data[:, 400:].float()\n",
    "    past_mask, future_mask = mask[:, :400], mask[:, 400:]\n",
    "    past_time, future_time = time[:, :400].float(), time[:, 400:].float()\n",
    "\n",
    "    past_mask = past_mask.unsqueeze(-1)\n",
    "    future_mask = future_mask.unsqueeze(-1)\n",
    "    # print(past_data.shape, future_data.shape, past_mask.shape, future_mask.shape, past_time.shape, future_time.shape)\n",
    "    # print(past_data.type(), future_data.type(), past_mask.type(), future_mask.type(), past_time.type(), future_time.type())\n",
    "    outputs = model(\n",
    "        past_values=past_data,\n",
    "        past_time_features=past_time,\n",
    "        past_observed_mask=past_mask,\n",
    "        future_values=future_data,\n",
    "        future_time_features=future_time,\n",
    "        future_observed_mask=future_mask,\n",
    "        # static_real_features=torch.zeros((1, 1), dtype=torch.int64),\n",
    "        # static_categorical_features=id,\n",
    "        \n",
    "    )\n",
    "\n",
    "    loss = outputs.loss\n",
    "    losses.append(loss.item())\n",
    "    loss.backward()\n",
    "\n",
    "torch.save(model.state_dict(), 'model.pth')"
   ]
  },
  {
   "cell_type": "code",
   "execution_count": 7,
   "metadata": {},
   "outputs": [
    {
     "data": {
      "image/png": "[encoded data removed]",
      "text/plain": [
       "<Figure size 640x480 with 1 Axes>"
      ]
     },
     "metadata": {},
     "output_type": "display_data"
    }
   ],
   "source": [
    "#Loss plot\n",
    "import matplotlib.pyplot as plt\n",
    "\n",
    "fig, ax = plt.subplots()\n",
    "ax.plot(losses, color='blue', linewidth=2)\n",
    "ax.set_xlabel('Iter')\n",
    "ax.set_ylabel('Loss')\n",
    "ax.set_ylim([0, 50])\n",
    "ax.set_title('Loss Plot')\n",
    "plt.show()"
   ]
  },
  {
   "cell_type": "code",
   "execution_count": null,
   "metadata": {},
   "outputs": [],
   "source": [
    "#hugging face time series transformer documentation\n",
    "\n",
    "import torch\n",
    "from transformers import TimeSeriesTransformerForPrediction\n",
    "\n",
    "model = TimeSeriesTransformerForPrediction.from_pretrained(\"huggingface/time-series-transformer-tourism-monthly\")\n",
    "\n",
    "# during training, one provides both past and future values\n",
    "# as well as possible additional features\n",
    "outputs = model(\n",
    "    past_values=batch[\"past_values\"],\n",
    "    past_time_features=batch[\"past_time_features\"],\n",
    "    past_observed_mask=batch[\"past_observed_mask\"],\n",
    "    static_categorical_features=batch[\"static_categorical_features\"],\n",
    "    static_real_features=batch[\"static_real_features\"],\n",
    "    future_values=batch[\"future_values\"],\n",
    "    future_time_features=batch[\"future_time_features\"],\n",
    ")\n",
    "\n",
    "loss = outputs.loss\n",
    "loss.backward()\n",
    "\n",
    "# during inference, one only provides past values\n",
    "# as well as possible additional features\n",
    "# the model autoregressively generates future values\n",
    "outputs = model.generate(\n",
    "    past_values=batch[\"past_values\"],\n",
    "    past_time_features=batch[\"past_time_features\"],\n",
    "    past_observed_mask=batch[\"past_observed_mask\"],\n",
    "    static_categorical_features=batch[\"static_categorical_features\"],\n",
    "    static_real_features=batch[\"static_real_features\"],\n",
    "    future_time_features=batch[\"future_time_features\"],\n",
    ")\n",
    "\n",
    "mean_prediction = outputs.sequences.mean(dim=1)"
   ]
  }
 ],
 "metadata": {
  "kernelspec": {
   "display_name": "Python 3",
   "language": "python",
   "name": "python3"
  },
  "language_info": {
   "codemirror_mode": {
    "name": "ipython",
    "version": 3
   },
   "file_extension": ".py",
   "mimetype": "text/x-python",
   "name": "python",
   "nbconvert_exporter": "python",
   "pygments_lexer": "ipython3",
   "version": "3.10.6"
  },
  "orig_nbformat": 4
 },
 "nbformat": 4,
 "nbformat_minor": 2
}
